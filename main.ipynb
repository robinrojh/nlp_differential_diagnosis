{
 "cells": [
  {
   "cell_type": "code",
   "execution_count": null,
   "metadata": {},
   "outputs": [],
   "source": [
    "%pip install langdetect\n",
    "%pip install jupyter\n",
    "%pip install pandas\n",
    "%pip install -U sentence-transformers\n",
    "%pip install nltk"
   ]
  },
  {
   "cell_type": "code",
   "execution_count": 9,
   "metadata": {},
   "outputs": [],
   "source": [
    "import pandas as pd\n",
    "import numpy as np\n",
    "\n",
    "df = pd.read_csv(\"./data/merged_df.csv\")\n",
    "df = df.groupby([\"CUI\"]).agg({\"STR\": \"first\", \"DEF\": lambda x: \" \".join(x)})\n",
    "df.to_csv(\"data/CUI_STR_DEF.csv\")"
   ]
  },
  {
   "cell_type": "code",
   "execution_count": 45,
   "metadata": {},
   "outputs": [
    {
     "name": "stderr",
     "output_type": "stream",
     "text": [
      "Batches: 100%|██████████| 45/45 [00:56<00:00,  1.25s/it]\n"
     ]
    }
   ],
   "source": [
    "from sentence_transformers import SentenceTransformer\n",
    "from sentence_transformers import util\n",
    "\n",
    "model = SentenceTransformer(\"sentence-transformers/all-MiniLM-L6-v2\")\n",
    "paraphrases = util.paraphrase_mining(model, df[\"DEF\"], show_progress_bar=True, top_k=7)\n",
    "# embeddings = model.encode(df[\"DEF\"][0:100], convert_to_tensor=True)\n",
    "\n",
    "result = []\n",
    "for paraphrase in paraphrases:\n",
    "    score, i, j = paraphrase\n",
    "    result.append([df.index[i],\n",
    "            df[\"STR\"][i],\n",
    "            df.index[j],\n",
    "            df[\"STR\"][j],\n",
    "            score])\n",
    "    # print(\"{} \\t\\t {} \\t\\t Score: {:.4f}\".format(df[\"STR\"][i], df[\"STR\"][j], score))\n",
    "result_df = pd.DataFrame(result, columns=[\"CUI_1\", \"STR_1\", \"CUI_2\", \"STR_2\", \"SCORE\"])\n",
    "result_df = result_df.sort_values([\"CUI_1\", \"SCORE\"], ascending=[True, False])\n",
    "result_df.to_csv(\"output/similarity.csv\", index=False)"
   ]
  },
  {
   "cell_type": "code",
   "execution_count": 5,
   "metadata": {},
   "outputs": [
    {
     "data": {
      "text/html": [
       "<div>\n",
       "<style scoped>\n",
       "    .dataframe tbody tr th:only-of-type {\n",
       "        vertical-align: middle;\n",
       "    }\n",
       "\n",
       "    .dataframe tbody tr th {\n",
       "        vertical-align: top;\n",
       "    }\n",
       "\n",
       "    .dataframe thead th {\n",
       "        text-align: right;\n",
       "    }\n",
       "</style>\n",
       "<table border=\"1\" class=\"dataframe\">\n",
       "  <thead>\n",
       "    <tr style=\"text-align: right;\">\n",
       "      <th></th>\n",
       "      <th>CUI_1</th>\n",
       "      <th>STR_1</th>\n",
       "      <th>CUI_2</th>\n",
       "      <th>STR_2</th>\n",
       "      <th>SCORE</th>\n",
       "    </tr>\n",
       "  </thead>\n",
       "  <tbody>\n",
       "    <tr>\n",
       "      <th>33</th>\n",
       "      <td>C0000832</td>\n",
       "      <td>PLACENTA ABRUPTIO</td>\n",
       "      <td>C0032044</td>\n",
       "      <td>PLACENTA ACCRETA</td>\n",
       "      <td>0.617763</td>\n",
       "    </tr>\n",
       "    <tr>\n",
       "      <th>34</th>\n",
       "      <td>C0000832</td>\n",
       "      <td>PLACENTA ABRUPTIO</td>\n",
       "      <td>C0032046</td>\n",
       "      <td>PLACENTA PREVIA</td>\n",
       "      <td>0.591562</td>\n",
       "    </tr>\n",
       "    <tr>\n",
       "      <th>35</th>\n",
       "      <td>C0000832</td>\n",
       "      <td>PLACENTA ABRUPTIO</td>\n",
       "      <td>C0013927</td>\n",
       "      <td>EMBOLISM, AMNIOTIC FLUID</td>\n",
       "      <td>0.527815</td>\n",
       "    </tr>\n",
       "    <tr>\n",
       "      <th>36</th>\n",
       "      <td>C0000832</td>\n",
       "      <td>PLACENTA ABRUPTIO</td>\n",
       "      <td>C0812470</td>\n",
       "      <td>ABORTION, INCOMPLETE</td>\n",
       "      <td>0.507287</td>\n",
       "    </tr>\n",
       "    <tr>\n",
       "      <th>37</th>\n",
       "      <td>C0000832</td>\n",
       "      <td>PLACENTA ABRUPTIO</td>\n",
       "      <td>C0042135</td>\n",
       "      <td>UTERUS, ATONY</td>\n",
       "      <td>0.491051</td>\n",
       "    </tr>\n",
       "    <tr>\n",
       "      <th>38</th>\n",
       "      <td>C0000832</td>\n",
       "      <td>PLACENTA ABRUPTIO</td>\n",
       "      <td>C0008495</td>\n",
       "      <td>CHORIOAMNIONITIS</td>\n",
       "      <td>0.474262</td>\n",
       "    </tr>\n",
       "  </tbody>\n",
       "</table>\n",
       "</div>"
      ],
      "text/plain": [
       "       CUI_1              STR_1     CUI_2                     STR_2     SCORE\n",
       "33  C0000832  PLACENTA ABRUPTIO  C0032044          PLACENTA ACCRETA  0.617763\n",
       "34  C0000832  PLACENTA ABRUPTIO  C0032046           PLACENTA PREVIA  0.591562\n",
       "35  C0000832  PLACENTA ABRUPTIO  C0013927  EMBOLISM, AMNIOTIC FLUID  0.527815\n",
       "36  C0000832  PLACENTA ABRUPTIO  C0812470      ABORTION, INCOMPLETE  0.507287\n",
       "37  C0000832  PLACENTA ABRUPTIO  C0042135             UTERUS, ATONY  0.491051\n",
       "38  C0000832  PLACENTA ABRUPTIO  C0008495          CHORIOAMNIONITIS  0.474262"
      ]
     },
     "execution_count": 5,
     "metadata": {},
     "output_type": "execute_result"
    }
   ],
   "source": [
    "import pandas as pd\n",
    "similarity_df = pd.read_csv(\"output/similarity.csv\")\n",
    "similarity_df\n",
    "\n",
    "\n",
    "def get_similar_diseases(similarity_df, name: str):\n",
    "    return similarity_df.loc[similarity_df[\"STR_1\"] == name]\n",
    "\n",
    "def get_similar_diseases_by_cui(similarity_df, cui: str):\n",
    "    return similarity_df.loc[similarity_df[\"CUI_1\"] == cui]\n",
    "\n",
    "get_similar_diseases(similarity_df, \"ABETALIPOPROTEINEMIA\")\n",
    "get_similar_diseases_by_cui(similarity_df, \"C0000832\")"
   ]
  }
 ],
 "metadata": {
  "kernelspec": {
   "display_name": ".venv",
   "language": "python",
   "name": "python3"
  },
  "language_info": {
   "codemirror_mode": {
    "name": "ipython",
    "version": 3
   },
   "file_extension": ".py",
   "mimetype": "text/x-python",
   "name": "python",
   "nbconvert_exporter": "python",
   "pygments_lexer": "ipython3",
   "version": "3.8.12"
  },
  "orig_nbformat": 4
 },
 "nbformat": 4,
 "nbformat_minor": 2
}

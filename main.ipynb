{
 "cells": [
  {
   "cell_type": "code",
   "execution_count": null,
   "metadata": {},
   "outputs": [],
   "source": [
    "%pip install transformers datasets\n",
    "%pip install langdetect\n",
    "%pip install jupyter\n",
    "%pip install pandas\n",
    "%pip install pyarrow\n",
    "%pip install -U sentence-transformers\n",
    "%pip install lexrank\n",
    "%pip install nltk"
   ]
  },
  {
   "cell_type": "code",
   "execution_count": 9,
   "metadata": {},
   "outputs": [],
   "source": [
    "import pandas as pd\n",
    "import numpy as np\n",
    "\n",
    "df = pd.read_csv(\"./data/merged_df.csv\")\n",
    "df = df.groupby([\"CUI\"]).agg({\"STR\": \"first\", \"DEF\": lambda x: \" \".join(x)})\n",
    "df.to_csv(\"data/CUI_STR_DEF.csv\")"
   ]
  },
  {
   "cell_type": "code",
   "execution_count": 45,
   "metadata": {},
   "outputs": [
    {
     "name": "stderr",
     "output_type": "stream",
     "text": [
      "Batches: 100%|██████████| 45/45 [00:56<00:00,  1.25s/it]\n"
     ]
    }
   ],
   "source": [
    "from sentence_transformers import SentenceTransformer\n",
    "from sentence_transformers import util\n",
    "\n",
    "model = SentenceTransformer(\"sentence-transformers/all-MiniLM-L6-v2\")\n",
    "paraphrases = util.paraphrase_mining(model, df[\"DEF\"], show_progress_bar=True, top_k=7)\n",
    "# embeddings = model.encode(df[\"DEF\"][0:100], convert_to_tensor=True)\n",
    "\n",
    "result = []\n",
    "for paraphrase in paraphrases:\n",
    "    score, i, j = paraphrase\n",
    "    result.append([df.index[i],\n",
    "            df[\"STR\"][i],\n",
    "            df.index[j],\n",
    "            df[\"STR\"][j],\n",
    "            score])\n",
    "    # print(\"{} \\t\\t {} \\t\\t Score: {:.4f}\".format(df[\"STR\"][i], df[\"STR\"][j], score))\n",
    "result_df = pd.DataFrame(result, columns=[\"CUI_1\", \"STR_1\", \"CUI_2\", \"STR_2\", \"SCORE\"])\n",
    "result_df = result_df.sort_values([\"CUI_1\", \"SCORE\"], ascending=[True, False])\n",
    "result_df.to_csv(\"output/similarity.csv\", index=False)"
   ]
  },
  {
   "cell_type": "code",
   "execution_count": null,
   "metadata": {},
   "outputs": [],
   "source": [
    "import pandas as pd\n",
    "similarity_df = pd.read_csv(\"output/similarity.csv\")\n",
    "similarity_df\n",
    "\n",
    "\n",
    "def get_similar_diseases(similarity_df, name: str):\n",
    "    return similarity_df.loc[similarity_df[\"STR_1\"] == name]\n",
    "\n",
    "get_similar_diseases(similarity_df, \"ABETALIPOPROTEINEMIA\")"
   ]
  }
 ],
 "metadata": {
  "kernelspec": {
   "display_name": ".venv",
   "language": "python",
   "name": "python3"
  },
  "language_info": {
   "codemirror_mode": {
    "name": "ipython",
    "version": 3
   },
   "file_extension": ".py",
   "mimetype": "text/x-python",
   "name": "python",
   "nbconvert_exporter": "python",
   "pygments_lexer": "ipython3",
   "version": "3.8.12"
  },
  "orig_nbformat": 4
 },
 "nbformat": 4,
 "nbformat_minor": 2
}
